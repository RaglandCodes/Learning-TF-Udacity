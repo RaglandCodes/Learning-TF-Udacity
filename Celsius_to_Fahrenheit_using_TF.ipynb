{
  "nbformat": 4,
  "nbformat_minor": 0,
  "metadata": {
    "colab": {
      "name": "Celsius to Fahrenheit using TF.ipynb",
      "version": "0.3.2",
      "provenance": [],
      "include_colab_link": true
    },
    "kernelspec": {
      "name": "python3",
      "display_name": "Python 3"
    }
  },
  "cells": [
    {
      "cell_type": "markdown",
      "metadata": {
        "id": "view-in-github",
        "colab_type": "text"
      },
      "source": [
        "<a href=\"https://colab.research.google.com/github/RaglandCodes/Learning-TF-Udacity/blob/master/Celsius_to_Fahrenheit_using_TF.ipynb\" target=\"_parent\"><img src=\"https://colab.research.google.com/assets/colab-badge.svg\" alt=\"Open In Colab\"/></a>"
      ]
    },
    {
      "metadata": {
        "id": "xYxCen7OLnn4",
        "colab_type": "code",
        "outputId": "a8220239-a436-479d-d54e-15151400431f",
        "colab": {
          "base_uri": "https://localhost:8080/",
          "height": 332
        }
      },
      "cell_type": "code",
      "source": [
        "from __future__ import absolute_import, division, print_function\n",
        "import tensorflow as tf\n",
        "import numpy as np\n",
        "\n",
        "celsius_q    = np.array([-40, -10,  0,  8, 15, 22,  38],  dtype=float)\n",
        "fahrenheit_a = np.array([-40,  14, 32, 46, 59, 72, 100],  dtype=float)\n",
        "\n",
        " \n",
        "l0 = tf.keras.layers.Dense(units = 1, input_shape=[1])\n",
        "\n",
        "model = tf.keras.Sequential([l0])\n",
        "\n",
        "model.compile(loss = 'mean_squared_error', optimizer=tf.keras.optimizers.Adam(0.1))\n",
        "\n",
        "model.fit(celsius_q, fahrenheit_a, epochs=1000, verbose=False)\n",
        "\n",
        "#print(model.predict([100.0])[0][0])\n",
        "\n",
        "print(\"\\xb0C, actual \\xb0F, predicted \\xb0F, deviation\")\n",
        "for i,celsius in enumerate(celsius_q):\n",
        "  predicted = model.predict([celsius])[0][0]\n",
        "  error = abs((fahrenheit_a[i] - predicted)*(100/fahrenheit_a[i]))\n",
        "  \n",
        "  print(\"{}\\xb0C, {}\\xb0F,  {}\\xb0F, {}%\".format(celsius, fahrenheit_a[i], predicted, error))\n",
        "  "
      ],
      "execution_count": 1,
      "outputs": [
        {
          "output_type": "stream",
          "text": [
            "WARNING:tensorflow:From /usr/local/lib/python3.6/dist-packages/tensorflow/python/ops/resource_variable_ops.py:435: colocate_with (from tensorflow.python.framework.ops) is deprecated and will be removed in a future version.\n",
            "Instructions for updating:\n",
            "Colocations handled automatically by placer.\n",
            "WARNING:tensorflow:From /usr/local/lib/python3.6/dist-packages/tensorflow/python/keras/utils/losses_utils.py:170: to_float (from tensorflow.python.ops.math_ops) is deprecated and will be removed in a future version.\n",
            "Instructions for updating:\n",
            "Use tf.cast instead.\n",
            "WARNING:tensorflow:From /usr/local/lib/python3.6/dist-packages/tensorflow/python/ops/math_ops.py:3066: to_int32 (from tensorflow.python.ops.math_ops) is deprecated and will be removed in a future version.\n",
            "Instructions for updating:\n",
            "Use tf.cast instead.\n",
            "°C, actual °F, predicted °F, deviation\n",
            "-40.0°C, -40.0°F,  -40.00839614868164°F, 0.020990371704101562%\n",
            "-10.0°C, 14.0°F,  13.938291549682617°F, 0.440774645124163%\n",
            "0.0°C, 32.0°F,  31.920520782470703°F, 0.24837255477905273%\n",
            "8.0°C, 46.0°F,  46.306304931640625°F, 0.6658802861752717%\n",
            "15.0°C, 59.0°F,  58.893863677978516°F, 0.17989207122285486%\n",
            "22.0°C, 72.0°F,  71.48143005371094°F, 0.7202360365125868%\n",
            "38.0°C, 100.0°F,  100.25299072265625°F, 0.25299072265625%\n"
          ],
          "name": "stdout"
        }
      ]
    }
  ]
}