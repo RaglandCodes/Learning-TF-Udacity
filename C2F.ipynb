{
  "nbformat": 4,
  "nbformat_minor": 0,
  "metadata": {
    "colab": {
      "name": "C2F.ipynb",
      "version": "0.3.2",
      "provenance": [],
      "include_colab_link": true
    },
    "kernelspec": {
      "name": "python3",
      "display_name": "Python 3"
    }
  },
  "cells": [
    {
      "cell_type": "markdown",
      "metadata": {
        "id": "view-in-github",
        "colab_type": "text"
      },
      "source": [
        "<a href=\"https://colab.research.google.com/github/RaglandCodes/Learning-TF-Udacity/blob/master/C2F.ipynb\" target=\"_parent\"><img src=\"https://colab.research.google.com/assets/colab-badge.svg\" alt=\"Open In Colab\"/></a>"
      ]
    },
    {
      "metadata": {
        "id": "xYxCen7OLnn4",
        "colab_type": "code",
        "colab": {
          "base_uri": "https://localhost:8080/",
          "height": 156
        },
        "outputId": "eb9beb0f-09bb-410a-87cb-536a0cc904f6"
      },
      "cell_type": "code",
      "source": [
        "from __future__ import absolute_import, division, print_function\n",
        "import tensorflow as tf\n",
        "import numpy as np\n",
        "\n",
        "celsius_q    = np.array([-40, -10,  0,  8, 15, 22,  38],  dtype=float)\n",
        "fahrenheit_a = np.array([-40,  14, 32, 46, 59, 72, 100],  dtype=float)\n",
        "\n",
        "'''for i,celsius in enumerate(celsius_q):\n",
        "  print(\"{}\\xb0C = {}\\xb0F\".format(celsius, fahrenheit_a[i]) )\n",
        "  '''\n",
        "  \n",
        "l0 = tf.keras.layers.Dense(units = 1, input_shape=[1])\n",
        "\n",
        "model = tf.keras.Sequential([l0])\n",
        "\n",
        "model.compile(loss = 'mean_squared_error', optimizer=tf.keras.optimizers.Adam(0.1))\n",
        "\n",
        "model.fit(celsius_q, fahrenheit_a, epochs=1000, verbose=False)\n",
        "\n",
        "#print(model.predict([100.0])[0][0])\n",
        "\n",
        "print(\"\\xb0C, actual \\xb0F, predicted \\xb0F, deviation\")\n",
        "for i,celsius in enumerate(celsius_q):\n",
        "  predicted = model.predict([celsius])[0][0]\n",
        "  error = (fahrenheit_a[i] - predicted)*(100/fahrenheit_a[i])\n",
        "  \n",
        "  print(\"{}\\xb0C, {}\\xb0F,  {}\\xb0F, {}%\".format(celsius, fahrenheit_a[i], predicted, error))\n",
        "  "
      ],
      "execution_count": 46,
      "outputs": [
        {
          "output_type": "stream",
          "text": [
            "°C, actual °F, predicted °F, deviation\n",
            "-40.0°C, -40.0°F,  -40.00682830810547°F, -0.017070770263671875%\n",
            "-10.0°C, 14.0°F,  13.939558029174805°F, 0.4317283630371094%\n",
            "0.0°C, 32.0°F,  31.92168617248535°F, 0.24473071098327637%\n",
            "8.0°C, 46.0°F,  46.30738830566406°F, -0.668235447095788%\n",
            "15.0°C, 59.0°F,  58.89487838745117°F, 0.1781722246590307%\n",
            "22.0°C, 72.0°F,  71.48236846923828°F, 0.7189326816134982%\n",
            "38.0°C, 100.0°F,  100.25376892089844°F, -0.2537689208984375%\n"
          ],
          "name": "stdout"
        }
      ]
    }
  ]
}